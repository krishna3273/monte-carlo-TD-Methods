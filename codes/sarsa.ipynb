{
 "cells": [
  {
   "cell_type": "code",
   "execution_count": 18,
   "metadata": {},
   "outputs": [
    {
     "name": "stdout",
     "output_type": "stream",
     "text": [
      "Final Q-Table Values\n",
      "left          down          right          up\n",
      "[[2.23339123e-04 2.15363801e-04 2.30414458e-04 5.30022181e-04]\n",
      " [3.48320066e-04 3.01024012e-04 6.38459058e-04 3.20318821e-04]\n",
      " [4.31193617e-04 4.26906657e-04 3.55185695e-04 4.57304091e-04]\n",
      " [3.09878820e-04 6.75208204e-04 4.16933474e-04 1.40608060e-03]\n",
      " [1.55065587e-03 1.41518237e-03 3.83168597e-03 1.64238959e-03]\n",
      " [2.48352571e-03 3.51352092e-03 3.92305825e-03 4.73149851e-03]\n",
      " [6.19518577e-03 4.37037088e-03 6.96479397e-03 3.98089730e-03]\n",
      " [9.65836359e-03 6.09926914e-03 7.25157134e-03 4.73700322e-03]\n",
      " [2.16891615e-04 1.96630575e-04 1.96784002e-04 2.24828464e-04]\n",
      " [2.12065317e-04 2.13001359e-04 2.48823846e-04 2.62638196e-04]\n",
      " [2.21935202e-04 1.87769460e-04 2.49363000e-04 2.24349806e-04]\n",
      " [1.79961329e-04 2.07583729e-04 1.26066871e-05 4.45802327e-04]\n",
      " [9.09544780e-04 1.45085808e-03 1.06546681e-03 1.24587474e-03]\n",
      " [2.28771375e-03 5.69538531e-03 2.31886742e-03 3.14645479e-03]\n",
      " [6.14290080e-03 1.40339904e-02 5.15519560e-03 6.19743705e-03]\n",
      " [5.13737279e-03 8.81729610e-03 1.91429327e-02 7.44209052e-03]\n",
      " [1.50636697e-04 1.48131564e-04 1.55531426e-04 1.52758505e-04]\n",
      " [2.28131922e-04 1.45854555e-04 1.46007759e-04 1.18073410e-04]\n",
      " [8.90513847e-05 9.71741860e-05 1.32509242e-04 5.79523523e-05]\n",
      " [1.00000000e+00 1.00000000e+00 1.00000000e+00 1.00000000e+00]\n",
      " [1.83033768e-04 3.21630683e-04 8.22022439e-04 3.57836987e-04]\n",
      " [3.24186026e-04 1.97052133e-04 9.54814534e-04 2.29782067e-03]\n",
      " [4.69021420e-03 4.43546406e-03 4.16969762e-02 8.99666813e-03]\n",
      " [1.14700820e-02 1.16877788e-02 1.05684371e-02 9.85484536e-03]\n",
      " [1.10472345e-04 1.34843903e-04 1.14010118e-04 1.52332086e-04]\n",
      " [8.09439803e-05 1.22885000e-04 9.95202357e-05 1.48525330e-04]\n",
      " [5.81477636e-05 4.39952403e-05 6.86726232e-05 7.87926532e-05]\n",
      " [1.55908210e-07 1.41797866e-04 4.54315976e-07 4.49974616e-05]\n",
      " [2.43228631e-04 6.13978666e-05 7.51784301e-05 1.50972826e-04]\n",
      " [1.00000000e+00 1.00000000e+00 1.00000000e+00 1.00000000e+00]\n",
      " [1.85126240e-03 2.06407812e-03 4.86838187e-02 8.05216134e-03]\n",
      " [1.85753423e-02 2.75534968e-02 1.61467302e-01 2.23112299e-02]\n",
      " [7.75832291e-05 6.15994557e-05 3.50611706e-05 9.46805620e-05]\n",
      " [4.99518976e-05 1.21946618e-05 3.62146958e-05 1.19246721e-04]\n",
      " [1.12365826e-06 1.96439319e-05 3.07180672e-06 2.78267741e-06]\n",
      " [1.00000000e+00 1.00000000e+00 1.00000000e+00 1.00000000e+00]\n",
      " [4.24668069e-04 5.43681214e-04 3.44062786e-03 4.85958303e-04]\n",
      " [4.94575154e-04 1.94349665e-03 2.07230990e-03 5.89812277e-04]\n",
      " [5.49881026e-03 2.03125217e-03 8.73464153e-03 2.90172444e-02]\n",
      " [4.56356145e-01 1.61262335e-02 3.57234457e-02 2.99712023e-02]\n",
      " [6.47454143e-05 1.02898053e-05 4.68777554e-06 7.89107198e-07]\n",
      " [1.00000000e+00 1.00000000e+00 1.00000000e+00 1.00000000e+00]\n",
      " [1.00000000e+00 1.00000000e+00 1.00000000e+00 1.00000000e+00]\n",
      " [4.34880255e-06 3.13736444e-05 2.35936757e-04 1.31689269e-04]\n",
      " [5.33604724e-04 1.27936753e-03 1.30412071e-04 2.33249586e-04]\n",
      " [1.04981589e-03 9.45277024e-04 5.98281888e-04 2.99074402e-03]\n",
      " [1.00000000e+00 1.00000000e+00 1.00000000e+00 1.00000000e+00]\n",
      " [2.64085978e-02 2.96377462e-03 7.21153337e-01 7.24998166e-03]\n",
      " [2.74201940e-05 1.62425038e-05 1.05279582e-05 8.91787209e-06]\n",
      " [1.00000000e+00 1.00000000e+00 1.00000000e+00 1.00000000e+00]\n",
      " [1.60396679e-05 7.49736476e-05 6.06275861e-06 1.84232882e-05]\n",
      " [2.63588219e-05 1.08313802e-06 4.92852309e-06 1.03995437e-05]\n",
      " [1.00000000e+00 1.00000000e+00 1.00000000e+00 1.00000000e+00]\n",
      " [1.87654147e-03 2.21792060e-04 2.23449784e-03 2.35053052e-03]\n",
      " [1.00000000e+00 1.00000000e+00 1.00000000e+00 1.00000000e+00]\n",
      " [3.94259083e-02 3.86835822e-02 9.63800640e-01 2.70179994e-02]\n",
      " [3.11627582e-05 2.01423811e-05 1.92746826e-05 1.75038247e-05]\n",
      " [1.71309963e-05 2.11270417e-05 1.64761114e-05 2.07254063e-05]\n",
      " [1.74357132e-05 1.07004154e-05 9.90020952e-06 1.89123311e-05]\n",
      " [1.00000000e+00 1.00000000e+00 1.00000000e+00 1.00000000e+00]\n",
      " [3.38952847e-03 5.39312629e-03 2.26152077e-02 1.24465820e-02]\n",
      " [2.49357980e-02 1.22968041e-01 3.07325539e-01 2.57661292e-02]\n",
      " [1.10464000e-01 6.74589898e-01 1.00767443e-01 2.35671147e-01]\n",
      " [1.00000000e+00 1.00000000e+00 1.00000000e+00 1.00000000e+00]]\n"
     ]
    }
   ],
   "source": [
    "import gym\n",
    "import numpy as np\n",
    "import random\n",
    "# env = gym.make('FrozenLake-v0')\n",
    "env =gym.make('FrozenLake8x8-v0')\n",
    "# Q = np.random.rand(env.observation_space.n,env.action_space.n)\n",
    "Q = np.ones((env.observation_space.n,env.action_space.n))\n",
    "#function to test the average rewards over n runs after training \n",
    "def test():\n",
    "    sum=0\n",
    "    for i in range(50):\n",
    "        s = env.reset()\n",
    "        done = False\n",
    "        j = 0\n",
    "        while not done:\n",
    "            j+=1\n",
    "            a =np.argmax(Q[s])\n",
    "            s1,r,done,_ = env.step(a)\n",
    "            sum+=r\n",
    "            s=s1\n",
    "    return sum\n",
    "epsilon=0.1\n",
    "#choose action e-greedy policy\n",
    "def choose_action(state):\n",
    "    action=0\n",
    "    e=random.random()\n",
    "    if e<epsilon:\n",
    "        return random.choice(range(env.action_space.n))\n",
    "    else:\n",
    "        return np.argmax(Q[state, :])\n",
    "#learning rate\n",
    "l = 0.6\n",
    "gamma = 0.9\n",
    "#number of episodes\n",
    "num_episodes = 10000\n",
    "rewards=[]\n",
    "for i in range(num_episodes):\n",
    "    #reset environment after each episode\n",
    "    s = env.reset()\n",
    "    j=1\n",
    "    #choose an action\n",
    "    a = choose_action(s)\n",
    "    done = False\n",
    "    j=0\n",
    "    sum=0\n",
    "    #while episode is not converged\n",
    "    while not done:\n",
    "        j+=1\n",
    "        #do the action and get next state\n",
    "        s1,r,done,_ = env.step(a)\n",
    "        sum+=r\n",
    "        #again choose an action for next state\n",
    "        a1=choose_action(s1)\n",
    "        #update Q-values based 0n sarsa equation\n",
    "        if not done:\n",
    "            Q[s][a]= Q[s][a]+l*(r+gamma* Q[s1][a1]-Q[s][a])\n",
    "        if done:\n",
    "            Q[s][a]= Q[s][a]+l*(r-Q[s][a])\n",
    "        s=s1\n",
    "        a=a1\n",
    "    rewards.append(test())\n",
    "print (\"Final Q-Table Values\")\n",
    "print (\"left          down          right          up\")\n",
    "print (Q)\n"
   ]
  },
  {
   "cell_type": "code",
   "execution_count": 17,
   "metadata": {},
   "outputs": [
    {
     "data": {
      "text/plain": [
       "[<matplotlib.lines.Line2D at 0x1d62f713a90>]"
      ]
     },
     "execution_count": 17,
     "metadata": {},
     "output_type": "execute_result"
    },
    {
     "data": {
      "image/png": "[encoded data removed]",
      "text/plain": [
       "<Figure size 432x288 with 1 Axes>"
      ]
     },
     "metadata": {
      "needs_background": "light"
     },
     "output_type": "display_data"
    }
   ],
   "source": [
    "import matplotlib.pyplot as plt\n",
    "episodes=[]\n",
    "for i in range(num_episodes):\n",
    "    episodes.append(i)\n",
    "plt.plot(episodes,rewards)"
   ]
  }
 ],
 "metadata": {
  "kernelspec": {
   "display_name": "Python 3",
   "language": "python",
   "name": "python3"
  },
  "language_info": {
   "codemirror_mode": {
    "name": "ipython",
    "version": 3
   },
   "file_extension": ".py",
   "mimetype": "text/x-python",
   "name": "python",
   "nbconvert_exporter": "python",
   "pygments_lexer": "ipython3",
   "version": "3.7.3"
  }
 },
 "nbformat": 4,
 "nbformat_minor": 2
}
