{
 "cells": [
  {
   "cell_type": "code",
   "execution_count": 11,
   "metadata": {
    "scrolled": true
   },
   "outputs": [],
   "source": [
    "import gym\n",
    "import numpy as np\n",
    "import random\n",
    "#choose gym environment\n",
    "env =gym.make('FrozenLake8x8-v0')\n",
    "#Q table intialisation\n",
    "Q = np.ones((env.observation_space.n,env.action_space.n))\n",
    "# Q = np.random.rand(env.observation_space.n,env.action_space.n)\n",
    "epsilon=0.1\n",
    "#choose action from e-greedy policy\n",
    "def choose_action(state):\n",
    "    action=0\n",
    "    e=random.random()\n",
    "    a=np.argmax(Q[state, :])\n",
    "    #also finding policy as it is used later in expectation equation\n",
    "    policy=[]\n",
    "    for i in range(env.action_space.n):\n",
    "        if(i!=a): policy.append(epsilon/env.action_space.n)\n",
    "        else :policy.append(1-epsilon+epsilon/env.action_space.n)\n",
    "    if e<epsilon:\n",
    "        return random.choice(range(env.action_space.n)),policy\n",
    "    else:\n",
    "         return np.argmax(Q[state, :]),policy\n",
    "l = .85\n",
    "gamma = 0.99\n",
    "#number of episodes\n",
    "num_episodes = 10000\n",
    "rewards=[]\n",
    "for i in range(num_episodes):\n",
    "    s = env.reset()\n",
    "    done = False\n",
    "    j=0\n",
    "    sum=0\n",
    "    while not done:\n",
    "        j+=1\n",
    "        a,_=choose_action(s)\n",
    "        s1,r,done,_ = env.step(a)\n",
    "#         print(env.action_space.n)\n",
    "        sum+=r\n",
    "        _,policy=choose_action(s1)\n",
    "        #update Q values according \n",
    "        if not done:\n",
    "            v=0\n",
    "            for i in range(env.action_space.n):\n",
    "               v+=policy[i]*Q[s1][i] \n",
    "            Q[s][a]= Q[s][a]+l*(r+gamma*(v)-Q[s][a])\n",
    "        if done:\n",
    "            Q[s][a]= Q[s][a]+l*(r-Q[s][a])\n",
    "        s=s1\n",
    "    rewards.append(sum)\n",
    "# print (Q)"
   ]
  }
 ],
 "metadata": {
  "kernelspec": {
   "display_name": "Python 3",
   "language": "python",
   "name": "python3"
  },
  "language_info": {
   "codemirror_mode": {
    "name": "ipython",
    "version": 3
   },
   "file_extension": ".py",
   "mimetype": "text/x-python",
   "name": "python",
   "nbconvert_exporter": "python",
   "pygments_lexer": "ipython3",
   "version": "3.7.3"
  }
 },
 "nbformat": 4,
 "nbformat_minor": 2
}
