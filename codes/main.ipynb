{
 "cells": [
  {
   "cell_type": "markdown",
   "metadata": {},
   "source": [
    "For monte carlo on-policy method, use First visit monte carlo as the current state will not appear again in the same episode. For incorporating epsilon-soft policy, generate a random number in the range (0,1). If the number is less than $\\epsilon$  select the action randomly. Otherwise select the greedy action.update state values visited in that episode after each episode."
   ]
  },
  {
   "cell_type": "markdown",
   "metadata": {},
   "source": [
    "For monte-carlo off policy method, use First visit monte-carlo.  Take behaviour policy as random policy which selects the actions uniformly among available actions in that state. implemented a incremental method of monte-carlo off policy method. Used weighted importance sampling.\n",
    "Run monte.py and monte_off.py files in examples folder in gym-tictactoe folder"
   ]
  },
  {
   "cell_type": "markdown",
   "metadata": {},
   "source": [
    "For  2nd question for each method seperate files are submitted with method names"
   ]
  }
 ],
 "metadata": {
  "kernelspec": {
   "display_name": "Python 3",
   "language": "python",
   "name": "python3"
  },
  "language_info": {
   "codemirror_mode": {
    "name": "ipython",
    "version": 3
   },
   "file_extension": ".py",
   "mimetype": "text/x-python",
   "name": "python",
   "nbconvert_exporter": "python",
   "pygments_lexer": "ipython3",
   "version": "3.7.3"
  }
 },
 "nbformat": 4,
 "nbformat_minor": 2
}
