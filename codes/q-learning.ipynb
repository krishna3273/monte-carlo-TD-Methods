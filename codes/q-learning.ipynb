{
 "cells": [
  {
   "cell_type": "code",
   "execution_count": 19,
   "metadata": {},
   "outputs": [],
   "source": [
    "import gym\n",
    "import numpy as np\n",
    "import random\n",
    "import matplotlib.pyplot as plt\n",
    "#choose environment from gym\n",
    "env =gym.make('FrozenLake8x8-v0')\n",
    "# Q = np.random.rand(env.observation_space.n,env.action_space.n)\n",
    "\n",
    "#Q table for storing Q(state,action) values\n",
    "Q = np.ones((env.observation_space.n,env.action_space.n))\n",
    "epsilon=0.08"
   ]
  },
  {
   "cell_type": "code",
   "execution_count": 24,
   "metadata": {},
   "outputs": [],
   "source": [
    "# -*- coding: utf-8 -*-\n",
    "#choosing action according to e-greedy policy\n",
    "def choose_action(state):\n",
    "    action=0\n",
    "    e=random.random()\n",
    "    if e<epsilon:\n",
    "        return random.choice(range(env.action_space.n))\n",
    "    else:\n",
    "        return np.argmax(Q[state, :])\n",
    "l = .85\n",
    "gamma = 0.99\n",
    "num_episodes = 10000\n",
    "rewards=[]\n",
    "episodes=[]\n",
    "for i in range(num_episodes):\n",
    "    s = env.reset()\n",
    "    done = False\n",
    "    j = 0\n",
    "    sum=0\n",
    "    while not done:\n",
    "        j+=1\n",
    "        #choose an action from our greedy policy\n",
    "        a = choose_action(s)\n",
    "        s1,r,done,info = env.step(a)\n",
    "#         print(info)\n",
    "        sum+=r\n",
    "        if not done:\n",
    "            #choose action with max Q(S,A) in the next state\n",
    "            Q[s,a]= Q[s,a]+l*(r+gamma* np.max(Q[s1,:])-Q[s,a])\n",
    "        if done:\n",
    "            Q[s,a]= Q[s,a]+l*(r-Q[s,a])\n",
    "        s=s1\n",
    "#rewards for each episode run\n",
    "#     rewards.append(test())\n",
    "#     episodes.append(i)\n",
    "#uncomment this line for plots\n",
    "# plt.plot(episodes,rewards)"
   ]
  },
  {
   "cell_type": "code",
   "execution_count": 12,
   "metadata": {},
   "outputs": [],
   "source": [
    "#returns rewards for averaging over n times\n",
    "def test():\n",
    "    sum=0\n",
    "    for i in range(50):\n",
    "        s = env.reset()\n",
    "        done = False\n",
    "        j = 0\n",
    "        while not done:\n",
    "            j+=1\n",
    "            #choose best action\n",
    "            a =np.argmax(Q[s])\n",
    "            s1,r,done,_ = env.step(a)\n",
    "            sum+=r\n",
    "            s=s1\n",
    "    return sum/50"
   ]
  }
 ],
 "metadata": {
  "kernelspec": {
   "display_name": "Python 3",
   "language": "python",
   "name": "python3"
  },
  "language_info": {
   "codemirror_mode": {
    "name": "ipython",
    "version": 3
   },
   "file_extension": ".py",
   "mimetype": "text/x-python",
   "name": "python",
   "nbconvert_exporter": "python",
   "pygments_lexer": "ipython3",
   "version": "3.7.3"
  }
 },
 "nbformat": 4,
 "nbformat_minor": 2
}
